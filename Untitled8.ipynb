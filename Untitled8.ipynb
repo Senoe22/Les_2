{
 "cells": [
  {
   "cell_type": "code",
   "execution_count": 13,
   "metadata": {},
   "outputs": [
    {
     "name": "stdout",
     "output_type": "stream",
     "text": [
      "Введите команду p\n",
      "Введите номер документа: 7777\n",
      "Геннадий Покемонов\n",
      "Введите команду p\n",
      "Введите номер документа: 98\n",
      "Документ не найден в базе\n",
      "Введите команду q\n",
      "До новых встреч!\n"
     ]
    }
   ],
   "source": [
    "#Задача 1\n",
    "doc =[{'type': 'passport', 'number': '5555', 'name': 'Василий Гупкин'},\n",
    "      {'type': 'invoice', 'number': '7777', 'name': 'Геннадий Покемонов'},\n",
    "      {'type': 'insurance', 'number': '10006', 'name': 'Аристарх Павлов'}]\n",
    "def num_name(docs, input_num):\n",
    "    res_name = \"\"       \n",
    "    for item in docs:\n",
    "         if item['number'] == input_num:\n",
    "            res_name = item['name']\n",
    "    return (res_name) \n",
    "\n",
    "def main(docs):\n",
    "    while True:\n",
    "        user_input = input('Введите команду ')\n",
    "        if user_input == 'p':\n",
    "            input_num = input('Введите номер документа: ')\n",
    "            if num_name(docs, input_num) == \"\":\n",
    "                print (\"Документ не найден в базе\")\n",
    "            else:\n",
    "                print(num_name(docs, input_num))\n",
    "\n",
    "        elif user_input == 'q':\n",
    "            print('До новых встреч!')\n",
    "            break\n",
    "            \n",
    "main(doc)"
   ]
  },
  {
   "cell_type": "code",
   "execution_count": 8,
   "metadata": {
    "scrolled": true
   },
   "outputs": [
    {
     "name": "stdout",
     "output_type": "stream",
     "text": [
      "Введите команду: s\n",
      "Введите номер документа: 11-2\n",
      "Документ хранится на полке: 1\n"
     ]
    }
   ],
   "source": [
    "# Задача 2\n",
    "doc = [{'type': 'passport', 'number': '2207876234', 'name': 'Василий Гупкин'},\n",
    "      {'type': 'invoice', 'number': '11-2', 'name': 'Геннадий Покемонов'},\n",
    "      {'type': 'insurance', 'number': '10006', 'name': 'Аристарх Павлов'}]\n",
    "direct = {'1': ['2207876234', '11-2'], '2': ['10006'], '3':[]}\n",
    "\n",
    "def num(docs, input_num):\n",
    "    res_num = \"\"       \n",
    "    for item in docs:\n",
    "         if item['number'] == input_num:\n",
    "            res_num = item['number']\n",
    "    return (res_num)\n",
    "\n",
    "def dir_num(directs, input_num):\n",
    "    key_dir = \"\"\n",
    "    i=0\n",
    "    for key, value in directs.items():\n",
    "        if input_num in list(directs.values())[i]:\n",
    "            key_dir = key\n",
    "        i += 1\n",
    "    return (key_dir)\n",
    "\n",
    "def mains(docs, directs):\n",
    "    while True:\n",
    "        user_input = input('Введите команду: ')\n",
    "        if user_input == 's':\n",
    "            input_num = input('Введите номер документа: ')\n",
    "            if num(docs, input_num)==\"\":\n",
    "                print (\"Документ не найден в базе\")\n",
    "            else:\n",
    "                print(\"Документ хранится на полке:\", dir_num(directs, input_num))\n",
    "\n",
    "            break    \n",
    "\n",
    "mains(doc, direct)   \n",
    "    "
   ]
  },
  {
   "cell_type": "code",
   "execution_count": 61,
   "metadata": {
    "scrolled": true
   },
   "outputs": [
    {
     "name": "stdout",
     "output_type": "stream",
     "text": [
      "Введите команду: l\n",
      "Номер документа: 2207876234 , passport , владелец: Василий Гупкин , полка: 1\n",
      "Номер документа: 11-2 , invoice , владелец: Геннадий Покемонов , полка: 1\n",
      "Номер документа: 10006 , insurance , владелец: Аристарх Павлов , полка: 2\n",
      "Номер документа: 234 , insurance , владелец: Пупкин , полка: 2\n"
     ]
    }
   ],
   "source": [
    "# Задача 3\n",
    "doc = [{'type': 'passport', 'number': '2207876234', 'name': 'Василий Гупкин'},\n",
    "      {'type': 'invoice', 'number': '11-2', 'name': 'Геннадий Покемонов'},\n",
    "      {'type': 'insurance', 'number': '10006', 'name': 'Аристарх Павлов'},\n",
    "      {'type': 'insurance', 'number': '234', 'name': 'Пупкин'}\n",
    "     ]\n",
    "     \n",
    "direct = {'1': ['2207876234', '11-2'], '2': ['10006', '234'], '3':[]}\n",
    "\n",
    "def dir_num(directs, input_num):\n",
    "    key_dir = \"\"\n",
    "    i = 0\n",
    "    for key, value in directs.items():\n",
    "        if input_num in list(directs.values())[i]:\n",
    "            key_dir = key\n",
    "        i += 1\n",
    "    return (key_dir)\n",
    "\n",
    "def main(docs, directs):\n",
    "    while True:\n",
    "        user_input = input('Введите команду: ')\n",
    "        if user_input == 'l':\n",
    "            i=0\n",
    "            for item in docs:\n",
    "                docs[i]['Полка']=dir_num(directs, docs[i]['number'])\n",
    "                print(\"Номер документа:\", item['number'], \",\", item['type'], \",\", \"владелец:\", item['name'], \",\", \"полка:\",item['Полка']) \n",
    "                i += 1\n",
    "            break    \n",
    "\n",
    "main(doc, direct)    "
   ]
  },
  {
   "cell_type": "code",
   "execution_count": 17,
   "metadata": {
    "scrolled": true
   },
   "outputs": [
    {
     "name": "stdout",
     "output_type": "stream",
     "text": [
      "Введите команду: as\n",
      "Введите номер полки:78\n",
      "Полка добавлена. Текущий перечнь полок: ['1', '2', '3', '78']\n"
     ]
    }
   ],
   "source": [
    "# Задача 4\n",
    "direct = {'1': ['2207876234', '11-2'], '2': ['10006'], '3':[]}\n",
    "def dir_list(directs):\n",
    "    res_dir = []\n",
    "    for key, value in directs.items():\n",
    "        res_dir.append(key)\n",
    "    return res_dir\n",
    "\n",
    "def mains(directs):\n",
    "    while True:\n",
    "        user_input = input('Введите команду: ')\n",
    "        if user_input == 'as':\n",
    "            num_input = input('Введите номер полки:')\n",
    "            if num_input in directs:\n",
    "                print('Такая полка уже существует.')\n",
    "                print(\"Текущий перечень полок:\", dir_list(directs))\n",
    "            else:\n",
    "                directs.setdefault(num_input,[])\n",
    "                print(\"Полка добавлена. Текущий перечнь полок:\", dir_list(directs))\n",
    "            break \n",
    "mains(direct)"
   ]
  },
  {
   "cell_type": "code",
   "execution_count": 80,
   "metadata": {
    "scrolled": false
   },
   "outputs": [
    {
     "name": "stdout",
     "output_type": "stream",
     "text": [
      "Введите команду: ds\n",
      "Введите номер полки:76\n",
      "Такой полки не существует. Текущий перечень полок:\n",
      "Текущий перечень полок: ['1', '2', '3', '4']\n"
     ]
    }
   ],
   "source": [
    "#Задача 5\n",
    "direct = {'1': ['2207876234', '11-2'], '2': ['10006'], '3':[], '4':[]}\n",
    "\n",
    "def current_dir(directs):\n",
    "    return print(\"Текущий перечень полок:\", list(directs.keys()))\n",
    " \n",
    "def find_empty(directs):\n",
    "    empty = []\n",
    "    for key, value in directs.items():\n",
    "        if value == []:\n",
    "            empty += key\n",
    "    return (empty)\n",
    "\n",
    "def main(directs):\n",
    "    while True:\n",
    "        user_input = input('Введите команду: ')\n",
    "        if user_input == 'ds':\n",
    "            num_input = input('Введите номер полки:')\n",
    "            if num_input in find_empty(directs):\n",
    "                del(directs[num_input])\n",
    "                print(\"Полка удалена. Текущий перечень полок:\", list(directs.keys()))\n",
    "            elif num_input in directs.keys():\n",
    "                print('На полке есть документы, удалите их перед удалением полки.')\n",
    "                current_dir(directs)\n",
    "            else:\n",
    "                print('Такой полки не существует. Текущий перечень полок:')\n",
    "                current_dir(directs)\n",
    "            break \n",
    "main(direct)"
   ]
  }
 ],
 "metadata": {
  "kernelspec": {
   "display_name": "Python 3",
   "language": "python",
   "name": "python3"
  },
  "language_info": {
   "codemirror_mode": {
    "name": "ipython",
    "version": 3
   },
   "file_extension": ".py",
   "mimetype": "text/x-python",
   "name": "python",
   "nbconvert_exporter": "python",
   "pygments_lexer": "ipython3",
   "version": "3.8.3"
  }
 },
 "nbformat": 4,
 "nbformat_minor": 4
}
